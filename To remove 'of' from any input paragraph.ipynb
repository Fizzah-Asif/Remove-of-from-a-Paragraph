{
 "cells": [
  {
   "cell_type": "code",
   "execution_count": null,
   "id": "6250bdaa",
   "metadata": {},
   "outputs": [],
   "source": [
    "para = input(\"Type a few sentences or a paragraph: \")\n",
    "ct = -1\n",
    "for w in para:\n",
    "    ct = ct + 1\n",
    "    if para[ct - 1] == \" \" and para[ct] == \"o\" and para[ct + 1] == \"f\":\n",
    "        print(end=\"\")\n",
    "    else:\n",
    "        if para[ct - 1] == \"o\" and para[ct] == \"f\" and para[ct + 1] == \" \":\n",
    "            print(end=\"\")\n",
    "        else:\n",
    "            print(para[ct],end=\"\")"
   ]
  },
  {
   "cell_type": "code",
   "execution_count": null,
   "id": "17c3bbe5",
   "metadata": {},
   "outputs": [],
   "source": []
  }
 ],
 "metadata": {
  "kernelspec": {
   "display_name": "Python 3 (ipykernel)",
   "language": "python",
   "name": "python3"
  },
  "language_info": {
   "codemirror_mode": {
    "name": "ipython",
    "version": 3
   },
   "file_extension": ".py",
   "mimetype": "text/x-python",
   "name": "python",
   "nbconvert_exporter": "python",
   "pygments_lexer": "ipython3",
   "version": "3.9.7"
  }
 },
 "nbformat": 4,
 "nbformat_minor": 5
}
